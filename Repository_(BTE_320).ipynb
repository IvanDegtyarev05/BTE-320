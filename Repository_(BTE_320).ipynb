{
  "cells": [
    {
      "cell_type": "markdown",
      "metadata": {
        "id": "view-in-github",
        "colab_type": "text"
      },
      "source": [
        "<a href=\"https://colab.research.google.com/github/IvanDegtyarev05/BTE-320/blob/main/Repository_(BTE_320).ipynb\" target=\"_parent\"><img src=\"https://colab.research.google.com/assets/colab-badge.svg\" alt=\"Open In Colab\"/></a>"
      ]
    },
    {
      "cell_type": "markdown",
      "metadata": {
        "id": "wgPtRHWknno7"
      },
      "source": [
        "\n",
        "\n",
        "---\n",
        "Garage Probelem\n",
        "---\n",
        "\n"
      ]
    },
    {
      "cell_type": "code",
      "execution_count": null,
      "metadata": {
        "id": "x5rLOSvAnJ-K"
      },
      "outputs": [],
      "source": [
        "def calculate_fee(hours):\n",
        "    base_fee = 5\n",
        "    hourly_rate = 2.50\n",
        "    min_fee = 10\n",
        "    max_fee = 20\n",
        "\n",
        "    fee = base_fee + (hourly_rate * hours)\n",
        "    return min(max(fee, min_fee), max_fee)\n",
        "\n",
        "print(\"Hours Parked   Fee\")\n",
        "print(\"--------------------\")\n",
        "for hours in range(1, 9):\n",
        "    fee = calculate_fee(hours)\n",
        "    print(f\"{hours:<14} ${fee:.2f}\")"
      ]
    },
    {
      "cell_type": "markdown",
      "source": [
        "\n",
        "\n",
        "---\n",
        "Movie Theatre Problem:\n",
        "---\n",
        "\n"
      ],
      "metadata": {
        "id": "fRLQ1AsU-ABR"
      }
    },
    {
      "cell_type": "code",
      "source": [
        "x=10\n",
        "a=20\n",
        "f=200\n",
        "for n in range (0,201, 25):\n",
        "  additional = 2*round(n**.5)\n",
        "  revenue = (additional + a)*x-f-n\n",
        "  print (n, revenue)"
      ],
      "metadata": {
        "id": "AmiPbcmp1R72"
      },
      "execution_count": null,
      "outputs": []
    },
    {
      "cell_type": "code",
      "source": [
        "down = 100000\n",
        "deposit = 1000\n",
        "amount = 5000\n",
        "n_months = 0\n",
        "\n",
        "while deposit < down:\n",
        "  deposit = deposit + amount\n",
        "  n_months = n_months + 1\n",
        "  print (deposit, n_months)"
      ],
      "metadata": {
        "id": "67enCV5q1lbz"
      },
      "execution_count": null,
      "outputs": []
    },
    {
      "cell_type": "markdown",
      "metadata": {
        "id": "qtqcB0zpoDPO"
      },
      "source": [
        "---\n",
        "Rock-Paper-Scissors Game\n",
        "---"
      ]
    },
    {
      "cell_type": "code",
      "execution_count": null,
      "metadata": {
        "colab": {
          "background_save": true,
          "base_uri": "https://localhost:8080/"
        },
        "id": "jrXihUS_oS-G",
        "outputId": "10e176cb-ccd9-4718-ee1a-eea3930fd44f"
      },
      "outputs": [
        {
          "name": "stdout",
          "output_type": "stream",
          "text": [
            "You chose: paper\n",
            "Computer chose: paper\n",
            "It's a tie!\n",
            "\n",
            "You chose: paper\n",
            "Computer chose: rock\n",
            "\u001b[31mComputer wins!\n",
            " \u001b[0m\n",
            "You chose: paper\n",
            "Computer chose: scissors\n",
            "\u001b[31mComputer wins!\n",
            " \u001b[0m\n"
          ]
        }
      ],
      "source": [
        "import random\n",
        "\n",
        "class Colors:\n",
        "  red = '\\033[91m'\n",
        "  lightRed = '\\033[31m'\n",
        "  green = '\\033[32m'\n",
        "  end = '\\033[0m'\n",
        "\n",
        "user_input = input('Do you want to play Rock-Paper-Schissors? y/n: ')\n",
        "\n",
        "#if user_input == 'n':\n",
        "\n",
        "while user_input == 'y':\n",
        "  user_choice = input(\"Enter your choice (rock, paper, or scissors): \\nOr enter 'break' to end: \")\n",
        "  computer_choice = random.choice([\"rock\", \"paper\", \"scissors\"])\n",
        "\n",
        "  print(f\"You chose: {user_choice}\")\n",
        "  print(f\"Computer chose: {computer_choice}\")\n",
        "\n",
        "  if user_choice == computer_choice:\n",
        "    print(\"It's a tie!\\n\")\n",
        "  elif (\n",
        "      (user_choice.lower == \"rock\" and computer_choice == \"scissors\") or\n",
        "      (user_choice.lower == \"paper\" and computer_choice == \"rock\") or\n",
        "      (user_choice.lower == \"scissors\" and computer_choice == \"paper\")\n",
        "  ):\n",
        "      print(f\"{Colors.green}You win!\\n{Colors.end}\")\n",
        "  elif user_choice.lower == \"break\":\n",
        "    break\n",
        "  else:\n",
        "      print(f\"{Colors.lightRed}Computer wins!\\n {Colors.end}\")\n",
        "  continue\n",
        "  user_input = input('Do you want to continue? y/n: ')\n",
        "print(\"Okay, we're done!\")"
      ]
    },
    {
      "cell_type": "markdown",
      "metadata": {
        "id": "KbaVAWu6oX5h"
      },
      "source": [
        "Importing the **Random Command**"
      ]
    },
    {
      "cell_type": "code",
      "execution_count": null,
      "metadata": {
        "id": "iput5eM8ohDS"
      },
      "outputs": [],
      "source": [
        "import random\n",
        "\n",
        "random_number = random.choice([1,2,3,4,5,6,7,8,9,0])\n",
        "\n",
        "print(random_number)"
      ]
    },
    {
      "cell_type": "markdown",
      "metadata": {
        "id": "pE1WIFRHokAb"
      },
      "source": [
        "\n",
        "\n",
        "---\n",
        "Deposit and Monthly Payment Problem\n",
        "---\n",
        "\n",
        "\n"
      ]
    },
    {
      "cell_type": "code",
      "execution_count": null,
      "metadata": {
        "id": "mIw76xhZovBW"
      },
      "outputs": [],
      "source": [
        "down = 100000\n",
        "deposit = 1000\n",
        "amount = 5000\n",
        "n_months = 0\n",
        "\n",
        "while deposit < down:\n",
        "  deposit = deposit+amount\n",
        "  n_months = n_months+1\n",
        "  if n_months == 12:\n",
        "    break\n",
        "print(f\"You have calculated the price for {n_months} months \\nand the price is {deposit} \\n\")\n",
        "print('You are done')"
      ]
    },
    {
      "cell_type": "markdown",
      "metadata": {
        "id": "x8m-7ibH8ikM"
      },
      "source": [
        "\n",
        "\n",
        "---\n",
        "Calculator\n",
        "---\n",
        "\n"
      ]
    },
    {
      "cell_type": "code",
      "execution_count": null,
      "metadata": {
        "id": "HBquLfM58i73"
      },
      "outputs": [],
      "source": [
        "class Colors:\n",
        "  red = '\\033[91m'\n",
        "  lightRed = '\\033[31m'\n",
        "  green = '\\033[32m'\n",
        "  end = '\\033[0m'\n",
        "\n",
        "class Styles:\n",
        "  bold = '\\033[1m'\n",
        "  italic = '\\033[3m'\n",
        "  underline = '\\033[4m'\n",
        "\n",
        "class Numbers:\n",
        "  numberOne = 0\n",
        "  numberTwo = 0\n",
        "\n",
        "while True:\n",
        "  numberOne = float(input(\"Enter the first value you want to use: \"))\n",
        "\n",
        "  operator_input = input(\"Enter your operator of choice from below \\n --> + \\n --> - \\n --> x \\n --> / \\n --> // \\n --> % \\n --> ^ \\n Operator: \")\n",
        "\n",
        "  numberTwo = float(input(\"Enter the second value you want to use: \"))\n",
        "\n",
        "  if operator_input == \"+\":\n",
        "    result = numberOne + numberTwo\n",
        "  elif operator_input == \"-\":\n",
        "    result = numberOne - numberTwo\n",
        "  elif operator_input.lower() == \"x\":\n",
        "    result = numberOne * numberTwo\n",
        "  elif operator_input == \"/\":\n",
        "    result = numberOne / numberTwo\n",
        "  elif operator_input == \"//\":\n",
        "    result = numberOne // numberTwo\n",
        "  elif operator_input == \"%\":\n",
        "    result = numberOne % numberTwo\n",
        "  elif operator_input == \"^\":\n",
        "    result = numberOne ** numberTwo\n",
        "  else:\n",
        "    print(f\"{Colors.lightRed}\\nError 0001: Invalid Operator Input: {Colors.end}{operator_input}\\nPlease try again\\n\")\n",
        "    continue\n",
        "\n",
        "\n",
        "  print(f\"{Colors.green}{Styles.bold}The asnwer is: {result}\\n{Colors.end}\")\n",
        "\n",
        "  user_input = input(\"Do you wish to calculate again? (y/n): \")\n",
        "  if user_input.lower() == \"y\":\n",
        "    continue\n",
        "  else:\n",
        "    print(f\"{Styles.italic}Calculator is powering off...{Colors.end}\")\n",
        "    break"
      ]
    },
    {
      "cell_type": "markdown",
      "metadata": {
        "id": "eQYXBzmu8rf7"
      },
      "source": [
        "Creating Colored Output"
      ]
    },
    {
      "cell_type": "code",
      "execution_count": null,
      "metadata": {
        "id": "artYVsIG8r7E"
      },
      "outputs": [],
      "source": [
        "# ANSI color codes\n",
        "class colors:\n",
        "    GREEN = '\\033[92m'\n",
        "    RED = '\\033[91m'\n",
        "    END = '\\033[0m'  # Reset color\n",
        "\n",
        "# Example usage\n",
        "print(f\"{colors.GREEN}This text is green!{colors.END}\")\n",
        "print(f\"{colors.RED}This text is red!{colors.END}\")"
      ]
    },
    {
      "cell_type": "markdown",
      "source": [
        "---\n",
        "Grades and Month List Returns\n",
        "---\n",
        "\n"
      ],
      "metadata": {
        "id": "xM9gRqkZ9Rlj"
      }
    },
    {
      "cell_type": "markdown",
      "source": [
        "**Grade Return**"
      ],
      "metadata": {
        "id": "ZxAc_N4C9dtc"
      }
    },
    {
      "cell_type": "code",
      "source": [
        "grades = {\n",
        "  'Ana':91,\n",
        "  'John':88,\n",
        "  'Denise':93,\n",
        "  'Katy':90\n",
        "}\n",
        "\n",
        "for key in grades.keys():\n",
        "  print(key)\n",
        "\n",
        "for values in grades.values():\n",
        "  print(values)\n",
        "\n",
        "for key, value in grades.items():\n",
        "  print(f'Name: {key}, Grade: {value}')"
      ],
      "metadata": {
        "id": "nrOwatHc9aER"
      },
      "execution_count": null,
      "outputs": []
    },
    {
      "cell_type": "markdown",
      "source": [
        "**Month Return**"
      ],
      "metadata": {
        "id": "FSD7Bo4D9roz"
      }
    },
    {
      "cell_type": "code",
      "source": [
        "months = {}\n",
        "\n",
        "numbers = [1,2,3,4,5,6,7,8,9,10,11,12]\n",
        "names = ['Jan','Feb','Mar','Apr','May','Jun','Jul','Aug','Sep','Oct','Nov','Dec']\n",
        "\n",
        "for i in range(len(numbers)):\n",
        "  months[numbers[i]] = names[i]\n",
        "\n",
        "print(months[11])"
      ],
      "metadata": {
        "id": "AT1Yb_lu9dO4"
      },
      "execution_count": null,
      "outputs": []
    },
    {
      "cell_type": "markdown",
      "source": [
        "---\n",
        "Populating a Dictionary with Two Variables (Months as Numbers)\n",
        "---"
      ],
      "metadata": {
        "id": "XRdQ0Zwf1zyl"
      }
    },
    {
      "cell_type": "code",
      "source": [
        "months = {}\n",
        "\n",
        "numbers = [1,2,3,4,5,6,7,8,9,10,11,12]\n",
        "\n",
        "names = ['Jan', 'Feb', 'March', 'April', 'May', 'June', 'July', 'August', 'Sep', 'Oct', 'Nov', 'Dec' ]\n",
        "\n",
        "for i in range(len(numbers)):\n",
        "    months[numbers[i]] = names[i]\n",
        "\n",
        "print(months)"
      ],
      "metadata": {
        "id": "ZlRI3NSp2Kod"
      },
      "execution_count": null,
      "outputs": []
    },
    {
      "cell_type": "markdown",
      "source": [],
      "metadata": {
        "id": "iB6zKD0h2MLw"
      }
    },
    {
      "cell_type": "markdown",
      "source": [
        "---\n",
        "Populating a List (List Creator)\n",
        "---"
      ],
      "metadata": {
        "id": "42kh3D4f2Om8"
      }
    },
    {
      "cell_type": "code",
      "source": [
        "a = 1\n",
        "L = []\n",
        "\n",
        "a = int(input('Enter a value: '))\n",
        "while a !=0:\n",
        "  L.append(a)\n",
        "  a = int(input('Enter a value: '))\n",
        "print(L)"
      ],
      "metadata": {
        "id": "R4N_0WF92dH2"
      },
      "execution_count": null,
      "outputs": []
    },
    {
      "cell_type": "markdown",
      "source": [
        "---\n",
        "Date Program\n",
        "---"
      ],
      "metadata": {
        "id": "rBl3d1082pWQ"
      }
    },
    {
      "cell_type": "code",
      "source": [
        "user_input = input('Enter date:')\n",
        "month = user_input[:2]\n",
        "day = user_input[3:5]\n",
        "year = user_input[6:]\n",
        "\n",
        "print(f'Todays month is {month}, it is the {day} day, and the year is {year}')\n"
      ],
      "metadata": {
        "id": "f552B_Vv2zMF"
      },
      "execution_count": null,
      "outputs": []
    },
    {
      "cell_type": "markdown",
      "source": [
        "---\n",
        "Deposit with Interest Rates\n",
        "---"
      ],
      "metadata": {
        "id": "SdE49zs23H5m"
      }
    },
    {
      "cell_type": "code",
      "source": [
        "name = input('Enter your name: ')\n",
        "customer_type = input('Enter customer type (n: new, e: exisitng): ')\n",
        "deposit = float(input('Enter deposit amount (in $): '))\n",
        "\n",
        "if customer_type == 'n':\n",
        "  interest = 0.03\n",
        "else:\n",
        "  if deposit <= 1000:\n",
        "    interest = 0.03\n",
        "  elif deposit <= 10000:\n",
        "    interest = 0.0325\n",
        "  elif deposit > 10000:\n",
        "    interest = 0.035\n",
        "\n",
        "total = (1 + interest) * deposit\n",
        "print(total)\n",
        ""
      ],
      "metadata": {
        "id": "ga9VM9h36xCg"
      },
      "execution_count": null,
      "outputs": []
    },
    {
      "cell_type": "markdown",
      "source": [
        "---\n",
        "Leap Year Calculation\n",
        "---"
      ],
      "metadata": {
        "id": "0f1OCSbC7mSW"
      }
    },
    {
      "cell_type": "code",
      "source": [
        "year = int(input(\"Enter a year: \"))\n",
        "\n",
        "if (year % 4 == 0 and year % 100 != 0) or (year % 400 == 0):\n",
        "  print(f\"{year} is a leap year\")\n",
        "\n",
        "else:\n",
        "  print(f\"{year} is not a leap year.\")"
      ],
      "metadata": {
        "id": "8kTbQZHM7xFT"
      },
      "execution_count": null,
      "outputs": []
    },
    {
      "cell_type": "markdown",
      "source": [
        "---\n",
        "Months List\n",
        "---"
      ],
      "metadata": {
        "id": "jjzowLTc71JA"
      }
    },
    {
      "cell_type": "code",
      "source": [
        "grades = {'Alice': 91 , 'Bob': 88 , 'Tracy': 93 , 'Erik': 90}\n",
        "\n",
        "for key in grades.keys():\n",
        "  print(key)\n",
        "\n",
        "for values in grades.values():\n",
        "  print(values)\n",
        "\n",
        "for key, values in grades.items():\n",
        "  print(f'Key: {key}, value: {values}')"
      ],
      "metadata": {
        "id": "9lmX4xfr772V"
      },
      "execution_count": null,
      "outputs": []
    },
    {
      "cell_type": "markdown",
      "source": [
        "---\n",
        "Mortgage Calculation (Classes)\n",
        "---"
      ],
      "metadata": {
        "id": "iuwNJS6J8Ama"
      }
    },
    {
      "cell_type": "code",
      "source": [
        "class Mortgage:\n",
        "  def __init__(self, amount, maturity, interest):\n",
        "    self.amount = amount\n",
        "    self.maturity = maturity\n",
        "    self.__interest = interest\n",
        "\n",
        "  def __str__(self):\n",
        "    return f'Mortage info:\\n Initial loan amount: {self.amount}\\n Maturity term: {self.maturity}\\n Interest rate: {self.__interest}'\n",
        "\n",
        "  def get_interest(self):\n",
        "    return self.__interest\n",
        "\n",
        "  def set_interest(self, newInterest):\n",
        "    if newInterest >= 0:\n",
        "      self.__interest = newInterest\n",
        "    else:\n",
        "      print('Interest must be non-negative!')\n",
        "\n",
        "  def payment(self):\n",
        "    B = self.amount\n",
        "    n = self.maturity * 12\n",
        "    r = self.__interest / 100\n",
        "\n",
        "    return B * (r*(1+r)**n) / ((1+r)**n - 1)"
      ],
      "metadata": {
        "id": "SqQor-xB8NUX"
      },
      "execution_count": null,
      "outputs": []
    },
    {
      "cell_type": "markdown",
      "source": [
        "---\n",
        "Reccursive Practice\n",
        "---"
      ],
      "metadata": {
        "id": "ye5TRZ_f8eQH"
      }
    },
    {
      "cell_type": "code",
      "source": [
        "def recursive_countdown(n):\n",
        "  if n == 0:\n",
        "    print(0)\n",
        "  else:\n",
        "    print(n)\n",
        "    recursive_countdown(n-1)\n",
        "\n",
        "recursive_countdown(5)"
      ],
      "metadata": {
        "id": "ElvvcClG8dJ6"
      },
      "execution_count": null,
      "outputs": []
    },
    {
      "cell_type": "code",
      "source": [
        "def fact(n):\n",
        "  n = 1\n",
        "  while n >= 1:\n",
        "    p = p * n\n",
        "    n = n - 1\n",
        "  return p"
      ],
      "metadata": {
        "id": "AfjMwRhs8kfr"
      },
      "execution_count": null,
      "outputs": []
    },
    {
      "cell_type": "code",
      "source": [
        "def factR(n):\n",
        "  if n == 1:\n",
        "    return 1\n",
        "  else:\n",
        "    return n * factR(n-1)"
      ],
      "metadata": {
        "id": "GfloBQDy8poT"
      },
      "execution_count": null,
      "outputs": []
    },
    {
      "cell_type": "code",
      "source": [
        "def rev(n):\n",
        "  return n[::-1]\n",
        "\n",
        "n = input()\n",
        "rev(n)"
      ],
      "metadata": {
        "id": "UVS3zOzU8ryU"
      },
      "execution_count": null,
      "outputs": []
    },
    {
      "cell_type": "code",
      "source": [
        "def revR(n):\n",
        "  if len(n) == 1:\n",
        "    return n\n",
        "  else:\n",
        "    return n[-1] + revR(n[:-1])\n",
        "\n",
        "revR('hello')"
      ],
      "metadata": {
        "id": "XxR0lf3U8tgN"
      },
      "execution_count": null,
      "outputs": []
    }
  ],
  "metadata": {
    "colab": {
      "provenance": [],
      "authorship_tag": "ABX9TyPvv4rfUQxrErdTy8OYbQsu",
      "include_colab_link": true
    },
    "kernelspec": {
      "display_name": "Python 3",
      "name": "python3"
    },
    "language_info": {
      "name": "python"
    }
  },
  "nbformat": 4,
  "nbformat_minor": 0
}