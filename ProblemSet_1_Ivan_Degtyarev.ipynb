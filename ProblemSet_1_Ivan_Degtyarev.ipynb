{
  "cells": [
    {
      "cell_type": "markdown",
      "metadata": {
        "id": "view-in-github",
        "colab_type": "text"
      },
      "source": [
        "<a href=\"https://colab.research.google.com/github/IvanDegtyarev05/BTE-320/blob/main/ProblemSet_1_Ivan_Degtyarev.ipynb\" target=\"_parent\"><img src=\"https://colab.research.google.com/assets/colab-badge.svg\" alt=\"Open In Colab\"/></a>"
      ]
    },
    {
      "cell_type": "markdown",
      "metadata": {
        "id": "mqKVIuY-mxNU"
      },
      "source": [
        "# Problem Set 2"
      ]
    },
    {
      "cell_type": "markdown",
      "metadata": {
        "id": "-RSYW1jVm08n"
      },
      "source": [
        "## Assignment 1: Quality Control (7 points)\n",
        "\n",
        "A quality control manager would like to find the average weight of a list of weights. Prior experience indicates that the first two measures are atypical, and the practice is to exclude these from the average calculation.\n",
        "\n",
        "Write a program that calculates the average of a list of numbers that given as inputs from the user, excluding the first two values.\n",
        "\n",
        "For your program, you must define and use the following functions:\n",
        "- `getValues(n)`: Prompt the user for `n` values, returns the list\n",
        "- `calcAverage(alist)`: Calculates the average from the list"
      ]
    },
    {
      "cell_type": "code",
      "execution_count": null,
      "metadata": {
        "colab": {
          "base_uri": "https://localhost:8080/"
        },
        "id": "AqbgJkgNmvQw",
        "outputId": "97d118b4-b35f-4f35-885f-d6ab4867431e"
      },
      "outputs": [
        {
          "output_type": "stream",
          "name": "stdout",
          "text": [
            "Enter number of weights to be added to the list: 6\n",
            "Enter a weight: 2\n",
            "Enter a weight: 2\n",
            "Enter a weight: 1\n",
            "Enter a weight: 2\n",
            "Enter a weight: 3\n",
            "Enter a weight: 4\n",
            "2.5\n"
          ]
        }
      ],
      "source": [
        "def getValues(n):\n",
        "  weights = []\n",
        "  if n < 3:\n",
        "    print('Not enough weights...')\n",
        "    return None\n",
        "  else:\n",
        "    for i in range(n):\n",
        "      weights.append(float(input('Enter a weight: ')))\n",
        "    return weights[2:]\n",
        "\n",
        "def calcAverage(alist):\n",
        "  print(sum(alist) / len(alist))\n",
        "\n",
        "n_weights = int(input('Enter number of weights to be added to the list: '))\n",
        "calcAverage(getValues(n_weights))"
      ]
    },
    {
      "cell_type": "markdown",
      "metadata": {
        "id": "QFO0Kzx8ncnv"
      },
      "source": [
        "## Assignment 2: Country Statistics Lookup-Multiple Measures (6 points)\n",
        "\n",
        "Assume a program begins with the statement:\n",
        "\n",
        "```python\n",
        "allData = { # dictionary of values for countries\n",
        "    'US': {'pop':325.7, 'gdp': 19.39, 'ccy': 'USD', 'fx':  1.0},\n",
        "    'CA': {'pop': 36.5, 'gdp':  1.65, 'ccy': 'CAD', 'fx':  1.35},\n",
        "    'MX': {'pop':129.2, 'gdp':  1.15, 'ccy': 'MXN', 'fx': 19.68}\n",
        "    }\n",
        "```\n",
        "\n",
        "Write subsequent statements that (in a loop) prompt the user for a country code (`US`, `CA`, or `MX`), then prompt for a measure name (`pop`, `gdp`, `ccy`, or `fx`), then look up in the above dictionary for the corresponding value, and display it.\n",
        "\n",
        "Example run:\n",
        "```\n",
        "Please enter a country code: CA\n",
        "Please enter a statistic: pop\n",
        "CA pop = 36.5\n",
        "```\n",
        "\n",
        "Your program should handle the cases where a user-entered country code or measure name is not found."
      ]
    },
    {
      "cell_type": "code",
      "execution_count": null,
      "metadata": {
        "id": "NZFjRINKowEW",
        "colab": {
          "base_uri": "https://localhost:8080/"
        },
        "outputId": "69d30568-36dc-4903-83e7-bee547624f82"
      },
      "outputs": [
        {
          "output_type": "stream",
          "name": "stdout",
          "text": [
            "Please enter a country code (ex: US, CA, MX): mx\n",
            "Please enter a statistic (ex: pop, gdp, ccy, or fx): pop\n",
            "MX pop = 129.2\n"
          ]
        }
      ],
      "source": [
        "allData = { # dictionary of values for countries\n",
        "    'US': {'pop':325.7, 'gdp': 19.39, 'ccy': 'USD', 'fx':  1.0},\n",
        "    'CA': {'pop': 36.5, 'gdp':  1.65, 'ccy': 'CAD', 'fx':  1.35},\n",
        "    'MX': {'pop':129.2, 'gdp':  1.15, 'ccy': 'MXN', 'fx': 19.68}\n",
        "    }\n",
        "\n",
        "for i in range(3):\n",
        "  countryCode = input(\"Please enter a country code (ex: US, CA, MX): \").upper()\n",
        "  if countryCode not in allData:\n",
        "    print(\"Error 01: Invalid Country Code\")\n",
        "    continue\n",
        "\n",
        "  measureName = input(\"Please enter a statistic (ex: pop, gdp, ccy, or fx): \").lower()\n",
        "  if measureName not in allData[countryCode]:\n",
        "    print(\"Error 02: Invalid Statistic\")\n",
        "    continue\n",
        "\n",
        "  value = allData[countryCode][measureName]\n",
        "  print(f\"{countryCode} {measureName} = {value}\")\n",
        "  break\n",
        "else:\n",
        "  print(\"Task Complete\")"
      ]
    },
    {
      "cell_type": "markdown",
      "metadata": {
        "id": "GjaUFrnfpKFf"
      },
      "source": [
        "## Assignment 3: Parking Garage (6 points)\n",
        "\n",
        "Write a program to compute the fee for parking in a garage for a number of hours.\n",
        "\n",
        "The program should:\n",
        "- Prompt the user for how many hours parked\n",
        "- Calculate the fee based on the following rules:\n",
        "  - $2.50/hour\n",
        "\n",
        "  - minimum fee is $6.00\n",
        "\n",
        "  - maximum fee is $20.00\n",
        "- Print the result\n",
        "\n",
        "For your program, define and use the following two functions:\n",
        "```python\n",
        "# use input() to prompt for the # of hours parked, return this value\n",
        "def getParkingHours()\n",
        "\n",
        "# takes as input hours (a number), returns the parking fee\n",
        "def calcParkingFee()\n",
        "```"
      ]
    },
    {
      "cell_type": "code",
      "source": [
        "def getParkingHours():\n",
        "    while True:\n",
        "        hoursParked = input(\"How many hours parked? \")\n",
        "        if float(hoursParked) >= 0:\n",
        "            return float(hoursParked)\n",
        "        else:\n",
        "            print(\"Please enter a valid positive number.\")\n",
        "\n",
        "def calcParkingFee(hours):\n",
        "    fee = hours * 2.5\n",
        "    if fee < 6.0:\n",
        "        fee = 6.0\n",
        "    elif fee > 20.0:\n",
        "        fee = 20.0\n",
        "    return fee\n",
        "\n",
        "\n",
        "hoursParked = getParkingHours()\n",
        "parkingFee = calcParkingFee(hoursParked)\n",
        "print(f\"The parking fee is ${parkingFee:.2f}\")\n"
      ],
      "metadata": {
        "colab": {
          "base_uri": "https://localhost:8080/"
        },
        "id": "vGbn7-bZ0jED",
        "outputId": "b68dc10d-cd07-43f3-bd95-aa4758b50826"
      },
      "execution_count": null,
      "outputs": [
        {
          "output_type": "stream",
          "name": "stdout",
          "text": [
            "How many hours parked? 6\n",
            "The parking fee is $15.00\n"
          ]
        }
      ]
    },
    {
      "cell_type": "markdown",
      "metadata": {
        "id": "gipBObe5qm-2"
      },
      "source": [
        "## Assignment 4: Tuition (6 points)\n",
        "\n",
        "A college charges tuition according to the following:\n",
        "- 12 or more credits: $20,000/semester\n",
        "\n",
        "- 1-11 credits: $1,200 + $1,700 per credit\n",
        "\n",
        "Write a program that prompts the user for a number of credits and determines and displays the tuition for the semester. As part of your program, define and use the following function:\n",
        "```python\n",
        "def calcTuition(credits)\n",
        "```\n",
        "The function returns the tuition for a given number of credits"
      ]
    },
    {
      "cell_type": "code",
      "execution_count": null,
      "metadata": {
        "id": "BPcn9ywzrL8y",
        "colab": {
          "base_uri": "https://localhost:8080/"
        },
        "outputId": "252a29e4-e25a-4006-857b-52b08cb7fe2a"
      },
      "outputs": [
        {
          "output_type": "stream",
          "name": "stdout",
          "text": [
            "How many credits are you taking? 11\n",
            "Your tuition is $19900\n"
          ]
        }
      ],
      "source": [
        "def calcTuition(credits):\n",
        "  if credits >= 12:\n",
        "    tuition = 20000\n",
        "  elif credits > 0:\n",
        "    tuition = (credits * 1700) + 1200\n",
        "  else:\n",
        "    tuition = 0\n",
        "  return tuition\n",
        "\n",
        "credits = int(input(\"How many credits are you taking? \"))\n",
        "tuition = calcTuition(credits)\n",
        "\n",
        "print(f\"Your tuition is ${tuition}\")"
      ]
    }
  ],
  "metadata": {
    "colab": {
      "provenance": [],
      "include_colab_link": true
    },
    "kernelspec": {
      "display_name": "Python 3",
      "name": "python3"
    },
    "language_info": {
      "name": "python"
    }
  },
  "nbformat": 4,
  "nbformat_minor": 0
}