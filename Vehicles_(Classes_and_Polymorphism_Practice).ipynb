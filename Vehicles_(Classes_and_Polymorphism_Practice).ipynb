{
  "nbformat": 4,
  "nbformat_minor": 0,
  "metadata": {
    "colab": {
      "provenance": [],
      "authorship_tag": "ABX9TyOr4S6VZyxPHyB0tpIh6AD6",
      "include_colab_link": true
    },
    "kernelspec": {
      "name": "python3",
      "display_name": "Python 3"
    },
    "language_info": {
      "name": "python"
    }
  },
  "cells": [
    {
      "cell_type": "markdown",
      "metadata": {
        "id": "view-in-github",
        "colab_type": "text"
      },
      "source": [
        "<a href=\"https://colab.research.google.com/github/IvanDegtyarev05/BTE-320/blob/main/Vehicles_(Classes_and_Polymorphism_Practice).ipynb\" target=\"_parent\"><img src=\"https://colab.research.google.com/assets/colab-badge.svg\" alt=\"Open In Colab\"/></a>"
      ]
    },
    {
      "cell_type": "markdown",
      "source": [
        "---\n",
        "Vehicles (Classes and Polymorphism Practice)\n",
        "---"
      ],
      "metadata": {
        "id": "rzcNjV8Zm-g-"
      }
    },
    {
      "cell_type": "code",
      "execution_count": null,
      "metadata": {
        "id": "bBSnMrVxKPqY"
      },
      "outputs": [],
      "source": [
        "class Vehicle:\n",
        "  def __init__(self, make, model):\n",
        "    self.make = make\n",
        "    self.model = model\n",
        "\n",
        "  def __str__(self):\n",
        "    return f\"{self.make} {self.model}\"\n",
        "\n",
        "  def vehicle_sound(self):\n",
        "    return \"Generic vehicle sound\"\n",
        "\n",
        "class Electric:\n",
        "  def __init__(self, voltage, battery):\n",
        "    self.voltage = voltage\n",
        "    self.battery = battery\n",
        "\n",
        "  def electric_info(self):\n",
        "    return f\"Voltage of {self.voltage}V - Battery Life of {self.battery} hours\"\n",
        "\n",
        "class Manual:\n",
        "  def __init__ (self, horsepower, gears):\n",
        "    self.horsepower = horsepower\n",
        "    self.gears = gears\n",
        "\n",
        "  def __str__ (self):\n",
        "    return f\"{self.horsepower} horsepower - {gears} gears\"\n",
        "\n",
        "class Car(Vehicle):\n",
        "    def __init__(self, make, model, convertible):\n",
        "      super().__init__(make, model)\n",
        "      self.convertible = convertible\n",
        "\n",
        "    def __str__(self):\n",
        "      return f\"({super().__str__()} - {'Convertible' if self.convertible else 'Standard'})\"\n",
        "\n",
        "    def vehicle_sound(self):\n",
        "      return \"Car sound: Vroom Vroom\"\n",
        "\n",
        "class Truck(Vehicle):\n",
        "  def __init__(self, make, model, num_wheels):\n",
        "    super().__init__(make, model)\n",
        "    self.num_wheels = num_wheels\n",
        "\n",
        "  def __str__ (self):\n",
        "    return f\"{super().__str__()} - {self.num_wheels}-wheel Truck\"\n",
        "\n",
        "  def vehicle_sound(self):\n",
        "    return \"Truck sound: Honka Honk!\"\n",
        "\n",
        "class HybridVehicle(Car, Electric):\n",
        "  def __init__(self, make, model, convertible, voltage, battery):\n",
        "    Car.__init__(self, make, model, convertible)\n",
        "    Electric.__init__(self, voltage, battery)\n",
        "\n",
        "  def __str__ (self):\n",
        "    return f\"{Car.__str__(self)}, {self.electric_info()}\"\n",
        "\n",
        "  def electric_info(self):\n",
        "    return f\"Voltage of {self.voltage}V - Battery Life of {self.battery} hours\"\n",
        "\n",
        "make = input(\"Enter the make of the car: \")\n",
        "model = input(\"Enter the model of the car: \")\n",
        "convertible_input = input(\"Is the car convertible? (Yes/No): \")\n",
        "convertible = True if convertible_input.lower() == 'yes' else False\n",
        "\n",
        "car = Car(make, model, convertible)\n",
        "\n",
        "make = input(\"Enter the make of the truck: \")\n",
        "model = input(\"Enter the model of the truck: \")\n",
        "num_wheels = int(input(\"Enter the number of wheels on the truck: \"))\n",
        "\n",
        "truck = Truck(make, model, num_wheels)\n",
        "\n",
        "make = input(\"Enter the make of the hybrid: \")\n",
        "model = input(\"Enter the model of the hybrid: \")\n",
        "convertible_input = input(\"Is the hybrid convertible? (Yes/No): \")\n",
        "convertible = True if convertible_input.lower() == 'yes' else False\n",
        "voltage = int(input(\"Enter the voltage of the hybrid: \"))\n",
        "battery = float(input(\"Enter the battery life of the hybrid: \"))\n",
        "\n",
        "hybrid_car = HybridVehicle(make, model, convertible, voltage, battery)\n",
        "\n",
        "print(car)\n",
        "print(car.vehicle_sound())\n",
        "print(truck)\n",
        "print(truck.vehicle_sound())\n",
        "print(hybrid_car)"
      ]
    }
  ]
}