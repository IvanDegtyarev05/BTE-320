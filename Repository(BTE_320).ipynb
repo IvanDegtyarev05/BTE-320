{
  "nbformat": 4,
  "nbformat_minor": 0,
  "metadata": {
    "colab": {
      "provenance": [],
      "authorship_tag": "ABX9TyPOGN37pZlB0XBQQOIoS6qM",
      "include_colab_link": true
    },
    "kernelspec": {
      "name": "python3",
      "display_name": "Python 3"
    },
    "language_info": {
      "name": "python"
    }
  },
  "cells": [
    {
      "cell_type": "markdown",
      "metadata": {
        "id": "view-in-github",
        "colab_type": "text"
      },
      "source": [
        "<a href=\"https://colab.research.google.com/github/IvanDegtyarev05/BTE-320/blob/main/Repository(BTE_320).ipynb\" target=\"_parent\"><img src=\"https://colab.research.google.com/assets/colab-badge.svg\" alt=\"Open In Colab\"/></a>"
      ]
    },
    {
      "cell_type": "markdown",
      "source": [
        "\n",
        "\n",
        "---\n",
        "Garage Probelem\n",
        "---\n",
        "\n"
      ],
      "metadata": {
        "id": "wgPtRHWknno7"
      }
    },
    {
      "cell_type": "code",
      "execution_count": null,
      "metadata": {
        "id": "x5rLOSvAnJ-K"
      },
      "outputs": [],
      "source": [
        "def calculate_fee(hours):\n",
        "    base_fee = 5\n",
        "    hourly_rate = 2.50\n",
        "    min_fee = 10\n",
        "    max_fee = 20\n",
        "\n",
        "    fee = base_fee + (hourly_rate * hours)\n",
        "    return min(max(fee, min_fee), max_fee)\n",
        "\n",
        "print(\"Hours Parked   Fee\")\n",
        "print(\"--------------------\")\n",
        "for hours in range(1, 9):\n",
        "    fee = calculate_fee(hours)\n",
        "    print(f\"{hours:<14} ${fee:.2f}\")"
      ]
    },
    {
      "cell_type": "markdown",
      "source": [
        "---\n",
        "Rock-Paper-Scissors Game\n",
        "---"
      ],
      "metadata": {
        "id": "qtqcB0zpoDPO"
      }
    },
    {
      "cell_type": "code",
      "source": [
        "import random\n",
        "\n",
        "user_input = input('Do you want to play? y/n: ')\n",
        "\n",
        "#if user_input == 'n':\n",
        "\n",
        "while user_input == 'y':\n",
        "  user_choice = input(\"Enter your choice (rock, paper, or scissors): \")\n",
        "  computer_choice = random.choice([\"rock\", \"paper\", \"scissors\"])\n",
        "\n",
        "  print(f\"You chose: {user_choice}\")\n",
        "  print(f\"Computer chose: {computer_choice}\")\n",
        "\n",
        "  if user_choice == computer_choice:\n",
        "    print(\"It's a tie!\")\n",
        "  elif (\n",
        "      (user_choice == \"rock\" and computer_choice == \"scissors\") or\n",
        "      (user_choice == \"paper\" and computer_choice == \"rock\") or\n",
        "      (user_choice == \"scissors\" and computer_choice == \"paper\")\n",
        "  ):\n",
        "      print(\"You win!\")\n",
        "  else:\n",
        "      print(\"Computer wins!\")\n",
        "  user_input = input('Do you want to continue? y/n: ')\n",
        "print(\"Okay, we're done!\")"
      ],
      "metadata": {
        "id": "jrXihUS_oS-G"
      },
      "execution_count": null,
      "outputs": []
    },
    {
      "cell_type": "markdown",
      "source": [
        "Importing the **Random Command**"
      ],
      "metadata": {
        "id": "KbaVAWu6oX5h"
      }
    },
    {
      "cell_type": "code",
      "source": [
        "import random\n",
        "\n",
        "random_number = random.choice([1,2,3,4,5,6,7,8,9,0])\n",
        "\n",
        "print(random_number)"
      ],
      "metadata": {
        "id": "iput5eM8ohDS"
      },
      "execution_count": null,
      "outputs": []
    },
    {
      "cell_type": "markdown",
      "source": [
        "\n",
        "\n",
        "---\n",
        "Deposit and Monthly Payment Problem\n",
        "---\n",
        "\n",
        "\n"
      ],
      "metadata": {
        "id": "pE1WIFRHokAb"
      }
    },
    {
      "cell_type": "code",
      "source": [
        "down = 100000\n",
        "deposit = 1000\n",
        "amount = 5000\n",
        "n_months = 0\n",
        "\n",
        "while deposit < down:\n",
        "  deposit = deposit+amount\n",
        "  n_months = n_months+1\n",
        "  if n_months == 12:\n",
        "    break\n",
        "print(f\"You have calculated the price for {n_months} months \\nand the price is {deposit} \\n\")\n",
        "print('You are done')"
      ],
      "metadata": {
        "id": "mIw76xhZovBW"
      },
      "execution_count": null,
      "outputs": []
    }
  ]
}